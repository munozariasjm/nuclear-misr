{
 "cells": [
  {
   "cell_type": "code",
   "execution_count": 1,
   "metadata": {},
   "outputs": [],
   "source": [
    "import numpy as np\n",
    "import pandas as pd\n",
    "import sys"
   ]
  },
  {
   "cell_type": "code",
   "execution_count": 2,
   "metadata": {},
   "outputs": [],
   "source": [
    "sys.path.append('../../nuclearpy_models/')"
   ]
  },
  {
   "cell_type": "code",
   "execution_count": 3,
   "metadata": {},
   "outputs": [],
   "source": [
    "from models.BE import dz_be, semf_be\n",
    "from models.BE import SRBEModels\n",
    "from utils.metrics import RegressionMetrics"
   ]
  },
  {
   "cell_type": "code",
   "execution_count": 4,
   "metadata": {},
   "outputs": [],
   "source": [
    "exp_df = pd.read_csv('../../Data/Experimental/be_exp.csv', delimiter=',')\n"
   ]
  },
  {
   "cell_type": "markdown",
   "metadata": {},
   "source": [
    "## Inference"
   ]
  },
  {
   "cell_type": "code",
   "execution_count": 5,
   "metadata": {},
   "outputs": [],
   "source": [
    "sr_semf = SRBEModels(base_model=\"semf\")\n",
    "sr_dz = SRBEModels(base_model=\"dz\")"
   ]
  },
  {
   "cell_type": "code",
   "execution_count": 6,
   "metadata": {},
   "outputs": [],
   "source": [
    "exp_df[\"semf_pred\"] = exp_df.apply(lambda x: semf_be(x[\"Z\"], x[\"N\"]), axis=1)\n",
    "exp_df[\"dz_pred\"] = exp_df.apply(lambda x: dz_be(x[\"Z\"], x[\"N\"]), axis=1)\n",
    "\n",
    "exp_df[\"semf_sr_pred\"] = exp_df.apply(lambda x: sr_semf(x[\"Z\"], x[\"N\"]), axis=1)\n",
    "exp_df[\"dz_sr_pred\"] = exp_df.apply(lambda x: sr_dz(x[\"Z\"], x[\"N\"]), axis=1)"
   ]
  },
  {
   "cell_type": "markdown",
   "metadata": {},
   "source": [
    "# Regression Metrics"
   ]
  },
  {
   "cell_type": "code",
   "execution_count": 14,
   "metadata": {},
   "outputs": [
    {
     "data": {
      "text/html": [
       "<div>\n",
       "<style scoped>\n",
       "    .dataframe tbody tr th:only-of-type {\n",
       "        vertical-align: middle;\n",
       "    }\n",
       "\n",
       "    .dataframe tbody tr th {\n",
       "        vertical-align: top;\n",
       "    }\n",
       "\n",
       "    .dataframe thead th {\n",
       "        text-align: right;\n",
       "    }\n",
       "</style>\n",
       "<table border=\"1\" class=\"dataframe\">\n",
       "  <thead>\n",
       "    <tr style=\"text-align: right;\">\n",
       "      <th></th>\n",
       "      <th>R2</th>\n",
       "      <th>MSE</th>\n",
       "      <th>RMSE</th>\n",
       "      <th>MAE</th>\n",
       "      <th>MAPE</th>\n",
       "      <th>RMSPE</th>\n",
       "      <th>Max Error</th>\n",
       "      <th>Explained Variance Score</th>\n",
       "    </tr>\n",
       "  </thead>\n",
       "  <tbody>\n",
       "    <tr>\n",
       "      <th>DZ_SR</th>\n",
       "      <td>0.999997</td>\n",
       "      <td>0.728790</td>\n",
       "      <td>0.853692</td>\n",
       "      <td>0.640380</td>\n",
       "      <td>0.088993</td>\n",
       "      <td>0.190633</td>\n",
       "      <td>4.902942</td>\n",
       "      <td>0.999997</td>\n",
       "    </tr>\n",
       "    <tr>\n",
       "      <th>DZ</th>\n",
       "      <td>0.999992</td>\n",
       "      <td>1.580478</td>\n",
       "      <td>1.257171</td>\n",
       "      <td>0.822816</td>\n",
       "      <td>0.096232</td>\n",
       "      <td>0.185628</td>\n",
       "      <td>6.797186</td>\n",
       "      <td>0.999993</td>\n",
       "    </tr>\n",
       "    <tr>\n",
       "      <th>SEMF</th>\n",
       "      <td>0.999916</td>\n",
       "      <td>17.463550</td>\n",
       "      <td>4.178941</td>\n",
       "      <td>2.978731</td>\n",
       "      <td>0.401497</td>\n",
       "      <td>0.873391</td>\n",
       "      <td>20.136952</td>\n",
       "      <td>0.999918</td>\n",
       "    </tr>\n",
       "    <tr>\n",
       "      <th>SEMF_SR</th>\n",
       "      <td>0.999878</td>\n",
       "      <td>25.368226</td>\n",
       "      <td>5.036688</td>\n",
       "      <td>1.880518</td>\n",
       "      <td>0.346813</td>\n",
       "      <td>2.016229</td>\n",
       "      <td>108.699950</td>\n",
       "      <td>0.999878</td>\n",
       "    </tr>\n",
       "  </tbody>\n",
       "</table>\n",
       "</div>"
      ],
      "text/plain": [
       "               R2        MSE      RMSE       MAE      MAPE     RMSPE  \\\n",
       "DZ_SR    0.999997   0.728790  0.853692  0.640380  0.088993  0.190633   \n",
       "DZ       0.999992   1.580478  1.257171  0.822816  0.096232  0.185628   \n",
       "SEMF     0.999916  17.463550  4.178941  2.978731  0.401497  0.873391   \n",
       "SEMF_SR  0.999878  25.368226  5.036688  1.880518  0.346813  2.016229   \n",
       "\n",
       "          Max Error  Explained Variance Score  \n",
       "DZ_SR      4.902942                  0.999997  \n",
       "DZ         6.797186                  0.999993  \n",
       "SEMF      20.136952                  0.999918  \n",
       "SEMF_SR  108.699950                  0.999878  "
      ]
     },
     "execution_count": 14,
     "metadata": {},
     "output_type": "execute_result"
    }
   ],
   "source": [
    "semf_metrics = RegressionMetrics(exp_df[\"BE\"], exp_df[\"semf_pred\"], \"SEMF\")()\n",
    "dz_metrics = RegressionMetrics(exp_df[\"BE\"], exp_df[\"dz_pred\"], \"DZ\")()\n",
    "semf_sr_metrics = RegressionMetrics(exp_df[\"BE\"], exp_df[\"semf_sr_pred\"], \"SEMF_SR\")()\n",
    "dz_sr_metrics = RegressionMetrics(exp_df[\"BE\"], exp_df[\"dz_sr_pred\"], \"DZ_SR\")()\n",
    "results = pd.concat([semf_metrics, dz_metrics, semf_sr_metrics, dz_sr_metrics], axis=0)\n",
    "results.sort_values(by=\"RMSE\", inplace=False)"
   ]
  },
  {
   "cell_type": "markdown",
   "metadata": {},
   "source": [
    "#"
   ]
  },
  {
   "cell_type": "code",
   "execution_count": null,
   "metadata": {},
   "outputs": [],
   "source": []
  }
 ],
 "metadata": {
  "kernelspec": {
   "display_name": "envSr",
   "language": "python",
   "name": "python3"
  },
  "language_info": {
   "codemirror_mode": {
    "name": "ipython",
    "version": 3
   },
   "file_extension": ".py",
   "mimetype": "text/x-python",
   "name": "python",
   "nbconvert_exporter": "python",
   "pygments_lexer": "ipython3",
   "version": "3.9.16"
  },
  "orig_nbformat": 4
 },
 "nbformat": 4,
 "nbformat_minor": 2
}
